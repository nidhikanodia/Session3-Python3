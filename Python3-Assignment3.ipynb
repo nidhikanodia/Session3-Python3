{
 "cells": [
  {
   "cell_type": "code",
   "execution_count": 12,
   "metadata": {
    "collapsed": false,
    "deletable": true,
    "editable": true
   },
   "outputs": [
    {
     "name": "stdout",
     "output_type": "stream",
     "text": [
      "The reduced value for list1 with add function is:  10\n",
      "The reduced value for list 1 with multiply function is:  24\n"
     ]
    }
   ],
   "source": [
    "#Question 1.1\n",
    "#A Python Program to implement user defined myreduce() function which works exactly like Python's built-in function reduce()\n",
    "\n",
    "#User defined function 'myreduce' which takes parameters as:\n",
    "#function: The function to be applied on sequence\n",
    "#sequence: The iterable object on which the function needs to be applied\n",
    "#intvalue(Optional Parameter): The initial value that needs to be used before the items of sequence\n",
    "def myreduce(function, sequence, initvalue = None):\n",
    "    #Get the iterator from the sequence\n",
    "    itr = iter(sequence)\n",
    "    \n",
    "    #If initial value is None, initialize first item from the list as initial value\n",
    "    if initvalue == None:\n",
    "        try:\n",
    "            initvalue = next(itr)\n",
    "        except:\n",
    "            #Catch exception if the list has zero items and return\n",
    "            print(\"The sequence is empty\")\n",
    "            return\n",
    "    \n",
    "    #Initialize the return value with initial value\n",
    "    returnvalue = initvalue\n",
    "    \n",
    "    #Iterate over the sequence and call function for each value\n",
    "    for x in itr:\n",
    "       returnvalue = function(returnvalue, x) \n",
    "    \n",
    "    #Return the final reduced value\n",
    "    return returnvalue\n",
    "\n",
    "#User defined add function\n",
    "def add(x1, x2):\n",
    "    return x1 + x2\n",
    "\n",
    "#User defined multiply function\n",
    "def multiply(x1, x2):\n",
    "    return x1 * x2\n",
    "\n",
    "#Usage of myreduce function\n",
    "list1 = [1,2,3,4]\n",
    "#Call myreduce with add function\n",
    "val1 = myreduce(add, list1)\n",
    "print(\"The reduced value for list1 with add function is: \", val1)\n",
    "\n",
    "#Call myreduce with multiply function\n",
    "val2 = myreduce(multiply, list1)\n",
    "print(\"The reduced value for list1 with multiply function is: \", val2)"
   ]
  },
  {
   "cell_type": "code",
   "execution_count": 19,
   "metadata": {
    "collapsed": false,
    "deletable": true,
    "editable": true
   },
   "outputs": [
    {
     "name": "stdout",
     "output_type": "stream",
     "text": [
      "The filtered list with numeric values is:  ['1', '2', '3']\n"
     ]
    }
   ],
   "source": [
    "#Question 1.2\n",
    "#A Python Program to implement user defined myfilter() function which works exactly like Python's built-in function filter()\n",
    "\n",
    "#User defined function 'myfilter' which takes parameters as:\n",
    "#function: The function to be applied on items in sequence\n",
    "#sequence: The iterable object on which the function needs to be applied\n",
    "def myfilter(function, sequence):\n",
    "    #Get the iterator from the sequence\n",
    "    itr = iter(sequence)\n",
    "    \n",
    "    list = []\n",
    "    #Iterate over the sequence and call function for each value\n",
    "    for x in itr:\n",
    "        boolvalue = function(x) \n",
    "        \n",
    "        #If the function returns True, add the value to final result\n",
    "        if boolvalue == True:\n",
    "            list.append(x)\n",
    "            \n",
    "    #Return the filtered list of values\n",
    "    return list\n",
    "\n",
    "#User defined function to filter numeric values\n",
    "def numericfilter(x):\n",
    "    if x.isnumeric():\n",
    "        return True\n",
    "    else:\n",
    "        return False\n",
    "#Usage of myfilter function    \n",
    "list1 = ['a', '1', 'b','c','2','3']\n",
    "#Call myfilter with numericfilter function on list1\n",
    "result = myfilter(numericfilter, list1)\n",
    "print(\"The filtered list with numeric values is: \", result)\n"
   ]
  },
  {
   "cell_type": "code",
   "execution_count": 79,
   "metadata": {
    "collapsed": false,
    "deletable": true,
    "editable": true
   },
   "outputs": [
    {
     "name": "stdout",
     "output_type": "stream",
     "text": [
      "List1 using list comprehension is:  ['A', 'C', 'A', 'D', 'G', 'I', 'L', 'D']\n",
      "List2 using list comprehension is:  ['x', 'xx', 'xxx', 'xxxx', 'y', 'yy', 'yyy', 'yyyy', 'z', 'zz', 'zzz', 'zzzz']\n",
      "List3 using list comprehension is:  ['x', 'y', 'z', 'xx', 'yy', 'zz', 'xxx', 'yyy', 'zzz', 'xxxx', 'yyyy', 'zzzz']\n",
      "List4 using list comprehension is:  [[2], [3], [4], [3], [4], [5], [4], [5], [6]]\n",
      "List5 using list comprehension is:  [[2, 3, 4, 5], [3, 4, 5, 6], [4, 5, 6, 7], [5, 6, 7, 8]]\n",
      "List6 using list comprehension is:  [(1, 1), (2, 1), (3, 1), (1, 2), (2, 2), (3, 2), (1, 3), (2, 3), (3, 3)]\n"
     ]
    }
   ],
   "source": [
    "#Question 2\n",
    "#Implement list comprehensions to produce given lists\n",
    "\n",
    "#List Comprehension to produce ['A', 'C', 'A', 'D', 'G', 'I', ’L’,'D']\n",
    "list1 = [alphabet for alphabet in 'ACADGILD']\n",
    "print(\"List1 using list comprehension is: \", list1)\n",
    "\n",
    "#List Comprehension to produce ['x', 'xx', 'xxx', 'xxxx', 'y', 'yy', 'yyy', 'yyyy', 'z', 'zz', 'zzz', 'zzzz']\n",
    "list2 = [char*i for char in 'xyz' for i in range(1,5)]\n",
    "print(\"List2 using list comprehension is: \", list2)\n",
    "\n",
    "#List Comprehension to produce ['x', 'y', 'z', 'xx', 'yy', 'zz', 'xxx', 'yyy', 'zzz', 'xxxx', 'yyyy', 'zzzz']\n",
    "list3 = [char*i for i in range(1,5) for char in 'xyz']\n",
    "print(\"List3 using list comprehension is: \", list3)\n",
    "\n",
    "#List Comprehension to produce [[2], [3], [4], [3], [4], [5], [4], [5], [6]]\n",
    "list4 = [[num + i] for i in range(3) for num in [2,3,4]]\n",
    "print(\"List4 using list comprehension is: \", list4)\n",
    "\n",
    "#List Comprehension to produce [[2, 3, 4, 5], [3, 4, 5, 6], [4, 5, 6, 7], [5, 6, 7, 8]]\n",
    "list5 =  [[item + num for item in [2,3,4,5]] for num in range(4)]\n",
    "print(\"List5 using list comprehension is: \", list5)\n",
    "\n",
    "#List Comprehension to produce [(1, 1), (2, 1), (3, 1), (1, 2), (2, 2), (3, 2), (1, 3), (2, 3), (3, 3)]\n",
    "list6 =  [(i, num) for num in [1,2,3] for i in  range(1,4)]\n",
    "print(\"List6 using list comprehension is: \", list6)"
   ]
  },
  {
   "cell_type": "code",
   "execution_count": 84,
   "metadata": {
    "collapsed": false,
    "deletable": true,
    "editable": true
   },
   "outputs": [
    {
     "name": "stdout",
     "output_type": "stream",
     "text": [
      "The longest word in list1 is:  your\n"
     ]
    }
   ],
   "source": [
    "#Question 3\n",
    "#Implement a function longestWord() that takes a list of words and returns the longest one.\n",
    "\n",
    "#User defined function 'longestWord' which takes parameter as:\n",
    "#wordlist: The list of words from which to find the longest word\n",
    "\n",
    "def longestWord(wordlist):\n",
    "    #Get the iterator from the wordlist\n",
    "    itr = iter(wordlist)\n",
    "    \n",
    "    #Initialize length variable to 0\n",
    "    prevlen = 0\n",
    "    \n",
    "    #Iterate through each word in the list\n",
    "    for word in wordlist:\n",
    "        #If the length of current word word is more than previous length, assign that as prevlen and word as longestword\n",
    "        if len(word) > prevlen:\n",
    "            prevlen = len(word)\n",
    "            lngstword = word\n",
    "    \n",
    "    #return the longest word\n",
    "    return lngstword\n",
    "\n",
    "#Usage of longestWord function\n",
    "#Define the list containing words\n",
    "list1 = ['I', 'am', 'the', 'your']\n",
    "#Call the function longestWord with list1 as parameter\n",
    "lword = longestWord(list1)\n",
    "print('The longest word in list1 is: ',lword)"
   ]
  },
  {
   "cell_type": "code",
   "execution_count": null,
   "metadata": {
    "collapsed": true,
    "deletable": true,
    "editable": true
   },
   "outputs": [],
   "source": []
  }
 ],
 "metadata": {
  "kernelspec": {
   "display_name": "Python 2",
   "language": "python",
   "name": "python2"
  },
  "language_info": {
   "codemirror_mode": {
    "name": "ipython",
    "version": 2
   },
   "file_extension": ".py",
   "mimetype": "text/x-python",
   "name": "python",
   "nbconvert_exporter": "python",
   "pygments_lexer": "ipython2",
   "version": "2.7.13"
  }
 },
 "nbformat": 4,
 "nbformat_minor": 2
}
